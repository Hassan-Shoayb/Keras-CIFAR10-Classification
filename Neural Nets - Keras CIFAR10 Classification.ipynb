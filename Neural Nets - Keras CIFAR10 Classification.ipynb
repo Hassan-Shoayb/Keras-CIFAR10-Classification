{
 "cells": [
  {
   "cell_type": "markdown",
   "id": "38c132dd",
   "metadata": {},
   "source": [
    " ## NOTEBOOK IMPORTS"
   ]
  },
  {
   "cell_type": "code",
   "execution_count": 149,
   "id": "9b3e475f",
   "metadata": {},
   "outputs": [],
   "source": [
    "import os\n",
    "import itertools\n",
    "\n",
    "import numpy as np\n",
    "from numpy.random import seed\n",
    "seed(888)\n",
    "\n",
    "import tensorflow as tf\n",
    "from tensorflow.random import set_seed\n",
    "set_seed(404)"
   ]
  },
  {
   "cell_type": "code",
   "execution_count": 2,
   "id": "438912b3",
   "metadata": {},
   "outputs": [],
   "source": [
    "import keras\n",
    "from keras.datasets import cifar10\n",
    "from keras.preprocessing.image import array_to_img\n",
    "from keras.models import Sequential\n",
    "from keras.layers import Dense, Activation, Dropout\n",
    "from keras.callbacks import TensorBoard\n",
    "\n",
    "#from Ipython.display import display\n",
    "from sklearn.metrics import confusion_matrix\n",
    "\n",
    "from time import strftime\n",
    "import matplotlib.pyplot as plt"
   ]
  },
  {
   "cell_type": "markdown",
   "id": "35c2d85b",
   "metadata": {},
   "source": [
    "# CONSTANTS"
   ]
  },
  {
   "cell_type": "code",
   "execution_count": 131,
   "id": "cbcca87f",
   "metadata": {},
   "outputs": [],
   "source": [
    "LOG_DIR = 'tensorboard_cifar_logs/'\n",
    "\n",
    "LABEL_NAMES = ['Plane', 'Car', 'Bird', 'Cat', 'Deer', 'Dog', 'Frog', 'Horse', 'Ship', 'Truck']\n",
    "IMG_WIDTH = 32\n",
    "IMG_HEIGHT = 32\n",
    "COLOR_CHANNELS = 3\n",
    "IMG_PIXELS = IMG_WIDTH * IMG_HEIGHT\n",
    "COLOR_CHANNELS = 3\n",
    "TOTAL_INPUTS = IMG_PIXELS * COLOR_CHANNELS\n",
    "NR_CLASSES = 10\n",
    "\n",
    "VALIDATION_SIZE = 10000\n",
    "SMALL_TRAIN_SIZE = 1000"
   ]
  },
  {
   "cell_type": "markdown",
   "id": "b80f91b0",
   "metadata": {},
   "source": [
    "## GET THE DATA"
   ]
  },
  {
   "cell_type": "code",
   "execution_count": 4,
   "id": "a0f97189",
   "metadata": {},
   "outputs": [],
   "source": [
    "(x_train_all, y_train_all), (x_test, y_test) = cifar10.load_data()"
   ]
  },
  {
   "cell_type": "code",
   "execution_count": 5,
   "id": "41d9ee07",
   "metadata": {},
   "outputs": [
    {
     "data": {
      "text/plain": [
       "module"
      ]
     },
     "execution_count": 5,
     "metadata": {},
     "output_type": "execute_result"
    }
   ],
   "source": [
    "type(cifar10)"
   ]
  },
  {
   "cell_type": "code",
   "execution_count": 6,
   "id": "62a78225",
   "metadata": {},
   "outputs": [
    {
     "data": {
      "text/plain": [
       "numpy.ndarray"
      ]
     },
     "execution_count": 6,
     "metadata": {},
     "output_type": "execute_result"
    }
   ],
   "source": [
    "type(x_train_all)"
   ]
  },
  {
   "cell_type": "markdown",
   "id": "a11e0043",
   "metadata": {},
   "source": [
    "## EXPLORE DATA"
   ]
  },
  {
   "cell_type": "code",
   "execution_count": 7,
   "id": "119bf256",
   "metadata": {
    "scrolled": false
   },
   "outputs": [
    {
     "data": {
      "text/plain": [
       "array([[[ 59,  62,  63],\n",
       "        [ 43,  46,  45],\n",
       "        [ 50,  48,  43],\n",
       "        ...,\n",
       "        [158, 132, 108],\n",
       "        [152, 125, 102],\n",
       "        [148, 124, 103]],\n",
       "\n",
       "       [[ 16,  20,  20],\n",
       "        [  0,   0,   0],\n",
       "        [ 18,   8,   0],\n",
       "        ...,\n",
       "        [123,  88,  55],\n",
       "        [119,  83,  50],\n",
       "        [122,  87,  57]],\n",
       "\n",
       "       [[ 25,  24,  21],\n",
       "        [ 16,   7,   0],\n",
       "        [ 49,  27,   8],\n",
       "        ...,\n",
       "        [118,  84,  50],\n",
       "        [120,  84,  50],\n",
       "        [109,  73,  42]],\n",
       "\n",
       "       ...,\n",
       "\n",
       "       [[208, 170,  96],\n",
       "        [201, 153,  34],\n",
       "        [198, 161,  26],\n",
       "        ...,\n",
       "        [160, 133,  70],\n",
       "        [ 56,  31,   7],\n",
       "        [ 53,  34,  20]],\n",
       "\n",
       "       [[180, 139,  96],\n",
       "        [173, 123,  42],\n",
       "        [186, 144,  30],\n",
       "        ...,\n",
       "        [184, 148,  94],\n",
       "        [ 97,  62,  34],\n",
       "        [ 83,  53,  34]],\n",
       "\n",
       "       [[177, 144, 116],\n",
       "        [168, 129,  94],\n",
       "        [179, 142,  87],\n",
       "        ...,\n",
       "        [216, 184, 140],\n",
       "        [151, 118,  84],\n",
       "        [123,  92,  72]]], dtype=uint8)"
      ]
     },
     "execution_count": 7,
     "metadata": {},
     "output_type": "execute_result"
    }
   ],
   "source": [
    "x_train_all[0]"
   ]
  },
  {
   "cell_type": "code",
   "execution_count": 8,
   "id": "a5e8248e",
   "metadata": {},
   "outputs": [
    {
     "data": {
      "image/png": "[encoded data removed]",
      "text/plain": [
       "<PIL.Image.Image image mode=RGB size=32x32 at 0x291693FE640>"
      ]
     },
     "execution_count": 8,
     "metadata": {},
     "output_type": "execute_result"
    }
   ],
   "source": [
    "pic = array_to_img(x_train_all[7])\n",
    "pic"
   ]
  },
  {
   "cell_type": "code",
   "execution_count": 9,
   "id": "4701d2e1",
   "metadata": {},
   "outputs": [
    {
     "data": {
      "image/png": "[encoded data removed]",
      "text/plain": [
       "<Figure size 432x288 with 1 Axes>"
      ]
     },
     "metadata": {
      "needs_background": "light"
     },
     "output_type": "display_data"
    }
   ],
   "source": [
    "plt.imshow(x_train_all[7])\n",
    "\n",
    "plt.show()"
   ]
  },
  {
   "cell_type": "code",
   "execution_count": 10,
   "id": "c675934d",
   "metadata": {},
   "outputs": [
    {
     "data": {
      "text/plain": [
       "2"
      ]
     },
     "execution_count": 10,
     "metadata": {},
     "output_type": "execute_result"
    }
   ],
   "source": [
    "y_train_all[400][0]"
   ]
  },
  {
   "cell_type": "code",
   "execution_count": 11,
   "id": "777dbeeb",
   "metadata": {},
   "outputs": [
    {
     "data": {
      "text/plain": [
       "'Bird'"
      ]
     },
     "execution_count": 11,
     "metadata": {},
     "output_type": "execute_result"
    }
   ],
   "source": [
    "LABEL_NAMES[y_train_all[400][0]]"
   ]
  },
  {
   "cell_type": "code",
   "execution_count": 12,
   "id": "1b8f49f4",
   "metadata": {},
   "outputs": [
    {
     "data": {
      "image/png": "[encoded data removed]",
      "text/plain": [
       "<Figure size 432x288 with 1 Axes>"
      ]
     },
     "metadata": {
      "needs_background": "light"
     },
     "output_type": "display_data"
    }
   ],
   "source": [
    "plt.imshow(x_train_all[4])\n",
    "plt.xlabel(LABEL_NAMES[y_train_all[400][0]], fontsize=16, color='blue')\n",
    "plt.show()"
   ]
  },
  {
   "cell_type": "code",
   "execution_count": 13,
   "id": "44d8eb30",
   "metadata": {
    "scrolled": false
   },
   "outputs": [
    {
     "data": {
      "image/png": "[encoded data removed]",
      "text/plain": [
       "<Figure size 1224x1224 with 10 Axes>"
      ]
     },
     "metadata": {},
     "output_type": "display_data"
    }
   ],
   "source": [
    "plt.figure(figsize=[17, 17])\n",
    "\n",
    "for i in range(10):\n",
    "    plt.subplot(1, 10, i+1)\n",
    "    plt.imshow(x_train_all[i])\n",
    "    \n",
    "    plt.xticks([])\n",
    "    plt.yticks([])\n",
    "    \n",
    "    plt.xlabel(LABEL_NAMES[y_train_all[i][0]], fontsize=14, color='blue')"
   ]
  },
  {
   "cell_type": "code",
   "execution_count": 14,
   "id": "8818af98",
   "metadata": {},
   "outputs": [
    {
     "data": {
      "text/plain": [
       "(32, 32, 3)"
      ]
     },
     "execution_count": 14,
     "metadata": {},
     "output_type": "execute_result"
    }
   ],
   "source": [
    "x_train_all[0].shape"
   ]
  },
  {
   "cell_type": "code",
   "execution_count": 15,
   "id": "46d8bc29",
   "metadata": {},
   "outputs": [
    {
     "data": {
      "text/plain": [
       "(50000, 32, 32, 3)"
      ]
     },
     "execution_count": 15,
     "metadata": {},
     "output_type": "execute_result"
    }
   ],
   "source": [
    "x_train_all.shape"
   ]
  },
  {
   "cell_type": "code",
   "execution_count": 16,
   "id": "4e1635e6",
   "metadata": {},
   "outputs": [],
   "source": [
    "nr_images, x, y, c = x_train_all.shape"
   ]
  },
  {
   "cell_type": "code",
   "execution_count": 17,
   "id": "8778d3e2",
   "metadata": {},
   "outputs": [
    {
     "name": "stdout",
     "output_type": "stream",
     "text": [
      "Number of Images: 50000 \t|   width: 32 \t|   height:32 \t|   Channels: 3\n"
     ]
    }
   ],
   "source": [
    "print(f\"Number of Images: {nr_images} \\t|   width: {x} \\t|   height:{y} \\t|   Channels: {c}\")"
   ]
  },
  {
   "cell_type": "code",
   "execution_count": 18,
   "id": "a29a7c97",
   "metadata": {},
   "outputs": [
    {
     "data": {
      "text/plain": [
       "(10000, 32, 32, 3)"
      ]
     },
     "execution_count": 18,
     "metadata": {},
     "output_type": "execute_result"
    }
   ],
   "source": [
    "x_test.shape"
   ]
  },
  {
   "cell_type": "markdown",
   "id": "c6f3d11b",
   "metadata": {},
   "source": [
    "## PRE-PROCESS DATA"
   ]
  },
  {
   "cell_type": "code",
   "execution_count": 19,
   "id": "c982ddbd",
   "metadata": {},
   "outputs": [
    {
     "data": {
      "text/plain": [
       "numpy.uint8"
      ]
     },
     "execution_count": 19,
     "metadata": {},
     "output_type": "execute_result"
    }
   ],
   "source": [
    "type(x_train_all[0][0][0][0])"
   ]
  },
  {
   "cell_type": "code",
   "execution_count": 20,
   "id": "94a03ab6",
   "metadata": {},
   "outputs": [],
   "source": [
    "x_train_all, x_test = x_train_all / 255.0, x_test / 255.0"
   ]
  },
  {
   "cell_type": "code",
   "execution_count": 21,
   "id": "2bd81c74",
   "metadata": {},
   "outputs": [
    {
     "data": {
      "text/plain": [
       "0.23137254901960785"
      ]
     },
     "execution_count": 21,
     "metadata": {},
     "output_type": "execute_result"
    }
   ],
   "source": [
    "x_train_all[0][0][0][0]"
   ]
  },
  {
   "cell_type": "code",
   "execution_count": 22,
   "id": "2ecf0866",
   "metadata": {},
   "outputs": [],
   "source": [
    "x_train_all = x_train_all.reshape(x_train_all.shape[0], TOTAL_INPUTS)"
   ]
  },
  {
   "cell_type": "code",
   "execution_count": 23,
   "id": "7f29f832",
   "metadata": {},
   "outputs": [
    {
     "data": {
      "text/plain": [
       "(50000, 3072)"
      ]
     },
     "execution_count": 23,
     "metadata": {},
     "output_type": "execute_result"
    }
   ],
   "source": [
    "x_train_all.shape"
   ]
  },
  {
   "cell_type": "code",
   "execution_count": 24,
   "id": "55c1c99e",
   "metadata": {},
   "outputs": [],
   "source": [
    "x_test = x_test.reshape(x_test.shape[0], TOTAL_INPUTS)"
   ]
  },
  {
   "cell_type": "code",
   "execution_count": 25,
   "id": "683c83f0",
   "metadata": {},
   "outputs": [
    {
     "data": {
      "text/plain": [
       "(10000, 3072)"
      ]
     },
     "execution_count": 25,
     "metadata": {},
     "output_type": "execute_result"
    }
   ],
   "source": [
    "x_test.shape"
   ]
  },
  {
   "cell_type": "markdown",
   "id": "ad689f93",
   "metadata": {},
   "source": [
    "## CREATE VALIDATION DATASET"
   ]
  },
  {
   "cell_type": "code",
   "execution_count": 26,
   "id": "0c85fd63",
   "metadata": {},
   "outputs": [],
   "source": [
    "x_val = x_train_all[:VALIDATION_SIZE]\n",
    "y_val = y_train_all[:VALIDATION_SIZE]"
   ]
  },
  {
   "cell_type": "markdown",
   "id": "0e7d22ba",
   "metadata": {},
   "source": [
    "## CHALLENGE:"
   ]
  },
  {
   "cell_type": "code",
   "execution_count": 27,
   "id": "de5228cd",
   "metadata": {},
   "outputs": [],
   "source": [
    "x_train = x_train_all[VALIDATION_SIZE:]\n",
    "y_train = y_train_all[VALIDATION_SIZE:]"
   ]
  },
  {
   "cell_type": "code",
   "execution_count": 28,
   "id": "9da16338",
   "metadata": {},
   "outputs": [
    {
     "data": {
      "text/plain": [
       "(40000, 3072)"
      ]
     },
     "execution_count": 28,
     "metadata": {},
     "output_type": "execute_result"
    }
   ],
   "source": [
    "x_train.shape"
   ]
  },
  {
   "cell_type": "markdown",
   "id": "24d96fe1",
   "metadata": {},
   "source": [
    "## CREATE A SMALL DATASET (For illustration)"
   ]
  },
  {
   "cell_type": "code",
   "execution_count": 29,
   "id": "282e9d80",
   "metadata": {},
   "outputs": [],
   "source": [
    "x_train_xs = x_train[:SMALL_TRAIN_SIZE]\n",
    "y_train_xs = y_train[:SMALL_TRAIN_SIZE]"
   ]
  },
  {
   "cell_type": "code",
   "execution_count": 30,
   "id": "230ea057",
   "metadata": {},
   "outputs": [
    {
     "data": {
      "text/plain": [
       "(1000, 3072)"
      ]
     },
     "execution_count": 30,
     "metadata": {},
     "output_type": "execute_result"
    }
   ],
   "source": [
    "x_train_xs.shape"
   ]
  },
  {
   "cell_type": "markdown",
   "id": "1f70ce94",
   "metadata": {},
   "source": [
    "## DEFINE THE NEURAL NETWORK USING KERAS"
   ]
  },
  {
   "cell_type": "code",
   "execution_count": 31,
   "id": "383352ca",
   "metadata": {},
   "outputs": [],
   "source": [
    "model_1 = Sequential([\n",
    "    Dense(units=128, input_dim=TOTAL_INPUTS, activation='relu', name='m1_hidden_1'),\n",
    "    Dense(units=64, activation='relu', name='m1_hidden_2'),\n",
    "    Dense(16, activation='relu', name='m1_hidden_3'),\n",
    "    Dense(10, activation='softmax', name='m1_output')\n",
    "    \n",
    "])\n",
    "\n",
    "model_1.compile(optimizer='adam', loss='sparse_categorical_crossentropy', metrics=['accuracy'])"
   ]
  },
  {
   "cell_type": "code",
   "execution_count": 32,
   "id": "c2e7a830",
   "metadata": {},
   "outputs": [],
   "source": [
    "model_2 = Sequential()\n",
    "model_2.add(Dropout(.2, seed=42, input_shape=(TOTAL_INPUTS, )))\n",
    "model_2.add(Dense(units=128, activation='relu', name='m2_hidden_1'))\n",
    "model_2.add(Dense(units=64, activation='relu', name='m2_hidden_2'))\n",
    "model_2.add(Dense(units=16, activation='relu', name='m2_hidden_3'))\n",
    "model_2.add(Dense(units=10, activation='softmax', name='m2_output'))\n",
    "\n",
    "model_2.compile(optimizer='adam', loss='sparse_categorical_crossentropy', metrics=['accuracy'])"
   ]
  },
  {
   "cell_type": "code",
   "execution_count": 33,
   "id": "b9287b1d",
   "metadata": {},
   "outputs": [],
   "source": [
    "model_3 = Sequential()\n",
    "model_3.add(Dropout(.2, seed=42, input_shape=(TOTAL_INPUTS, )))\n",
    "model_3.add(Dense(units=128, activation='relu', name='m3_hidden_1'))\n",
    "model_3.add(Dropout(.25, seed=42))\n",
    "model_3.add(Dense(units=64, activation='relu', name='m3_hidden_2'))\n",
    "model_3.add(Dense(units=16, activation='relu', name='m3_hidden_3'))\n",
    "model_3.add(Dense(units=10, activation='softmax', name='m3_output'))\n",
    "\n",
    "model_3.compile(optimizer='adam', loss='sparse_categorical_crossentropy', metrics=['accuracy'])"
   ]
  },
  {
   "cell_type": "code",
   "execution_count": 34,
   "id": "2d4164d5",
   "metadata": {},
   "outputs": [
    {
     "data": {
      "text/plain": [
       "tensorflow.python.keras.engine.sequential.Sequential"
      ]
     },
     "execution_count": 34,
     "metadata": {},
     "output_type": "execute_result"
    }
   ],
   "source": [
    "type(model_1)"
   ]
  },
  {
   "cell_type": "code",
   "execution_count": 35,
   "id": "dedf05b0",
   "metadata": {},
   "outputs": [
    {
     "name": "stdout",
     "output_type": "stream",
     "text": [
      "Model: \"sequential\"\n",
      "_________________________________________________________________\n",
      "Layer (type)                 Output Shape              Param #   \n",
      "=================================================================\n",
      "m1_hidden_1 (Dense)          (None, 128)               393344    \n",
      "_________________________________________________________________\n",
      "m1_hidden_2 (Dense)          (None, 64)                8256      \n",
      "_________________________________________________________________\n",
      "m1_hidden_3 (Dense)          (None, 16)                1040      \n",
      "_________________________________________________________________\n",
      "m1_output (Dense)            (None, 10)                170       \n",
      "=================================================================\n",
      "Total params: 402,810\n",
      "Trainable params: 402,810\n",
      "Non-trainable params: 0\n",
      "_________________________________________________________________\n"
     ]
    }
   ],
   "source": [
    "model_1.summary()"
   ]
  },
  {
   "cell_type": "code",
   "execution_count": 36,
   "id": "2f180482",
   "metadata": {},
   "outputs": [
    {
     "data": {
      "text/plain": [
       "402810"
      ]
     },
     "execution_count": 36,
     "metadata": {},
     "output_type": "execute_result"
    }
   ],
   "source": [
    "32*32*3*128 + 128 + (128*64 + 64) + (64*16 + 16) + (16*10 + 10)"
   ]
  },
  {
   "cell_type": "markdown",
   "id": "5411decd",
   "metadata": {},
   "source": [
    "## TENSORBOARD - Visualizing Learning"
   ]
  },
  {
   "cell_type": "code",
   "execution_count": 37,
   "id": "62e73e20",
   "metadata": {},
   "outputs": [],
   "source": [
    "def get_tensorboard(model_name):\n",
    "    folder_name = f'{model_name} at {strftime(\"%I %M\")}'\n",
    "    dir_paths = os.path.join(LOG_DIR, folder_name)\n",
    "\n",
    "    try:\n",
    "        os.makedirs(dir_paths)\n",
    "\n",
    "    except OSError as err:\n",
    "        print(err.strerror)\n",
    "    else:\n",
    "        print('Successfully Created Directory')\n",
    "    \n",
    "    return TensorBoard(log_dir=dir_paths)"
   ]
  },
  {
   "cell_type": "code",
   "execution_count": 38,
   "id": "f292236f",
   "metadata": {},
   "outputs": [],
   "source": [
    "samples_per_batch = 1000"
   ]
  },
  {
   "cell_type": "code",
   "execution_count": 39,
   "id": "ee76a12b",
   "metadata": {},
   "outputs": [],
   "source": [
    "# %%time\n",
    "\n",
    "# nr_epochs = 150\n",
    "# model_1.fit(x_train_xs, y_train_xs, \n",
    "#             batch_size=samples_per_batch, epochs=nr_epochs, \n",
    "#             verbose=0,\n",
    "#             validation_data=(x_val, y_val),\n",
    "#             callbacks=[get_tensorboard('Model 1')])"
   ]
  },
  {
   "cell_type": "code",
   "execution_count": 40,
   "id": "f926e1d9",
   "metadata": {},
   "outputs": [],
   "source": [
    "# %%time\n",
    "\n",
    "# nr_epochs = 150\n",
    "# model_2.fit(x_train_xs, y_train_xs, \n",
    "#             batch_size=samples_per_batch, epochs=nr_epochs, \n",
    "#             verbose=0,\n",
    "#             validation_data=(x_val, y_val),\n",
    "#             callbacks=[get_tensorboard('Model 2')])"
   ]
  },
  {
   "cell_type": "code",
   "execution_count": 41,
   "id": "ddb25c26",
   "metadata": {},
   "outputs": [
    {
     "name": "stdout",
     "output_type": "stream",
     "text": [
      "Successfully Created Directory\n",
      "WARNING:tensorflow:From C:\\Users\\Engr Shoayb\\anaconda3\\lib\\site-packages\\tensorflow\\python\\ops\\summary_ops_v2.py:1277: stop (from tensorflow.python.eager.profiler) is deprecated and will be removed after 2020-07-01.\n",
      "Instructions for updating:\n",
      "use `tf.profiler.experimental.stop` instead.\n",
      "Wall time: 8min 24s\n"
     ]
    },
    {
     "data": {
      "text/plain": [
       "<tensorflow.python.keras.callbacks.History at 0x2917d28b5e0>"
      ]
     },
     "execution_count": 41,
     "metadata": {},
     "output_type": "execute_result"
    }
   ],
   "source": [
    "%%time\n",
    "\n",
    "nr_epochs = 100\n",
    "model_1.fit(x_train, y_train, \n",
    "            batch_size=samples_per_batch, epochs=nr_epochs, \n",
    "            verbose=0,\n",
    "            validation_data=(x_val, y_val),\n",
    "            callbacks=[get_tensorboard('Model 1 XL')])"
   ]
  },
  {
   "cell_type": "code",
   "execution_count": 42,
   "id": "922ffd0f",
   "metadata": {},
   "outputs": [
    {
     "name": "stdout",
     "output_type": "stream",
     "text": [
      "Successfully Created Directory\n",
      "WARNING:tensorflow:Callbacks method `on_train_batch_end` is slow compared to the batch time (batch time: 0.5939s vs `on_train_batch_end` time: 2.6702s). Check your callbacks.\n",
      "Wall time: 18min 49s\n"
     ]
    },
    {
     "data": {
      "text/plain": [
       "<tensorflow.python.keras.callbacks.History at 0x291f45da7c0>"
      ]
     },
     "execution_count": 42,
     "metadata": {},
     "output_type": "execute_result"
    }
   ],
   "source": [
    "%%time\n",
    "\n",
    "nr_epochs = 100\n",
    "model_2.fit(x_train, y_train, \n",
    "            batch_size=samples_per_batch, epochs=nr_epochs, \n",
    "            verbose=0,\n",
    "            validation_data=(x_val, y_val),\n",
    "            callbacks=[get_tensorboard('Model 2 XL')])"
   ]
  },
  {
   "cell_type": "code",
   "execution_count": 43,
   "id": "b02dbbc5",
   "metadata": {},
   "outputs": [
    {
     "name": "stdout",
     "output_type": "stream",
     "text": [
      "Successfully Created Directory\n",
      "Wall time: 22min 53s\n",
      "Parser   : 285 ms\n"
     ]
    },
    {
     "data": {
      "text/plain": [
       "<tensorflow.python.keras.callbacks.History at 0x2911e86a6d0>"
      ]
     },
     "execution_count": 43,
     "metadata": {},
     "output_type": "execute_result"
    }
   ],
   "source": [
    "%%time\n",
    "\n",
    "nr_epochs = 100\n",
    "model_3.fit(x_train, y_train, \n",
    "            batch_size=samples_per_batch, epochs=nr_epochs, \n",
    "            verbose=0,\n",
    "            validation_data=(x_val, y_val),\n",
    "            callbacks=[get_tensorboard('Model 3 XL')])"
   ]
  },
  {
   "cell_type": "markdown",
   "id": "ed9fd55a",
   "metadata": {},
   "source": [
    "## PREDICTIONS ON INDIVIDUAL IMAGES"
   ]
  },
  {
   "cell_type": "code",
   "execution_count": 44,
   "id": "5a4fb00c",
   "metadata": {},
   "outputs": [
    {
     "data": {
      "text/plain": [
       "(3072,)"
      ]
     },
     "execution_count": 44,
     "metadata": {},
     "output_type": "execute_result"
    }
   ],
   "source": [
    "x_val[1].shape"
   ]
  },
  {
   "cell_type": "code",
   "execution_count": 45,
   "id": "4b964144",
   "metadata": {},
   "outputs": [
    {
     "data": {
      "text/plain": [
       "(1, 3072)"
      ]
     },
     "execution_count": 45,
     "metadata": {},
     "output_type": "execute_result"
    }
   ],
   "source": [
    "test = np.expand_dims(x_val[1], axis=0)\n",
    "test.shape"
   ]
  },
  {
   "cell_type": "code",
   "execution_count": 46,
   "id": "fd59f370",
   "metadata": {},
   "outputs": [],
   "source": [
    "np.set_printoptions(precision=3)"
   ]
  },
  {
   "cell_type": "code",
   "execution_count": 47,
   "id": "b2062245",
   "metadata": {},
   "outputs": [
    {
     "data": {
      "text/plain": [
       "array([6.783e-03, 6.953e-01, 1.668e-03, 1.260e-02, 1.367e-03, 1.704e-02,\n",
       "       3.565e-04, 4.528e-03, 3.840e-02, 2.220e-01], dtype=float32)"
      ]
     },
     "execution_count": 47,
     "metadata": {},
     "output_type": "execute_result"
    }
   ],
   "source": [
    "model_2.predict(test)[0]"
   ]
  },
  {
   "cell_type": "code",
   "execution_count": 48,
   "id": "bb842841",
   "metadata": {},
   "outputs": [
    {
     "name": "stdout",
     "output_type": "stream",
     "text": [
      "WARNING:tensorflow:From <ipython-input-48-d96bec2a87e6>:1: Sequential.predict_classes (from tensorflow.python.keras.engine.sequential) is deprecated and will be removed after 2021-01-01.\n",
      "Instructions for updating:\n",
      "Please use instead:* `np.argmax(model.predict(x), axis=-1)`,   if your model does multi-class classification   (e.g. if it uses a `softmax` last-layer activation).* `(model.predict(x) > 0.5).astype(\"int32\")`,   if your model does binary classification   (e.g. if it uses a `sigmoid` last-layer activation).\n"
     ]
    },
    {
     "data": {
      "text/plain": [
       "array([1], dtype=int64)"
      ]
     },
     "execution_count": 48,
     "metadata": {},
     "output_type": "execute_result"
    }
   ],
   "source": [
    "model_2.predict_classes(test)"
   ]
  },
  {
   "cell_type": "code",
   "execution_count": 49,
   "id": "3d2eab49",
   "metadata": {},
   "outputs": [
    {
     "data": {
      "text/plain": [
       "array([9], dtype=uint8)"
      ]
     },
     "execution_count": 49,
     "metadata": {},
     "output_type": "execute_result"
    }
   ],
   "source": [
    "y_val[1]"
   ]
  },
  {
   "cell_type": "code",
   "execution_count": 50,
   "id": "3ac43b0a",
   "metadata": {},
   "outputs": [
    {
     "name": "stdout",
     "output_type": "stream",
     "text": [
      "Image0: Actual value=6  Vs  Predicted Value=6\n",
      "Image1: Actual value=9  Vs  Predicted Value=1\n",
      "Image2: Actual value=9  Vs  Predicted Value=9\n",
      "Image3: Actual value=4  Vs  Predicted Value=6\n",
      "Image4: Actual value=1  Vs  Predicted Value=8\n",
      "Image5: Actual value=1  Vs  Predicted Value=6\n",
      "Image6: Actual value=2  Vs  Predicted Value=6\n",
      "Image7: Actual value=7  Vs  Predicted Value=7\n",
      "Image8: Actual value=8  Vs  Predicted Value=0\n",
      "Image9: Actual value=3  Vs  Predicted Value=2\n"
     ]
    }
   ],
   "source": [
    "for x in range(10):\n",
    "    value = np.expand_dims(x_val[x], axis=0)\n",
    "    predicted_value = model_2.predict_classes(value)\n",
    "    actual_value = y_val[x]\n",
    "    \n",
    "    print(f\"Image{x}: Actual value={actual_value[0]}  Vs  Predicted Value={predicted_value[0]}\")"
   ]
  },
  {
   "cell_type": "markdown",
   "id": "71e4934e",
   "metadata": {},
   "source": [
    "## MODEL EVALUATION"
   ]
  },
  {
   "cell_type": "code",
   "execution_count": 51,
   "id": "c223f351",
   "metadata": {},
   "outputs": [
    {
     "data": {
      "text/plain": [
       "['loss', 'accuracy']"
      ]
     },
     "execution_count": 51,
     "metadata": {},
     "output_type": "execute_result"
    }
   ],
   "source": [
    "model_2.metrics_names"
   ]
  },
  {
   "cell_type": "code",
   "execution_count": 52,
   "id": "9d8a4970",
   "metadata": {},
   "outputs": [
    {
     "name": "stdout",
     "output_type": "stream",
     "text": [
      "313/313 [==============================] - 2s 5ms/step - loss: 1.4589 - accuracy: 0.4806\n",
      "Test Loss is: 1.46\n",
      "Test Accuaracy is: 48.1%\n"
     ]
    }
   ],
   "source": [
    "test_lost, test_accuracy = model_2.evaluate(x_test, y_test)\n",
    "print(f'Test Loss is: {test_lost:0.3}')\n",
    "print(f'Test Accuaracy is: {test_accuracy:0.1%}')"
   ]
  },
  {
   "cell_type": "markdown",
   "id": "07e41714",
   "metadata": {},
   "source": [
    "## CONFUSION MATRIX"
   ]
  },
  {
   "cell_type": "code",
   "execution_count": 83,
   "id": "48abcb5f",
   "metadata": {},
   "outputs": [],
   "source": [
    "predictions = model_2.predict_classes(x_test)\n",
    "conf_matrix = confusion_matrix(y_true=y_test, y_pred=predictions)"
   ]
  },
  {
   "cell_type": "code",
   "execution_count": 85,
   "id": "737a5be7",
   "metadata": {},
   "outputs": [
    {
     "data": {
      "text/plain": [
       "(10, 10)"
      ]
     },
     "execution_count": 85,
     "metadata": {},
     "output_type": "execute_result"
    }
   ],
   "source": [
    "conf_matrix.shape"
   ]
  },
  {
   "cell_type": "code",
   "execution_count": 87,
   "id": "e4fe5b5a",
   "metadata": {},
   "outputs": [],
   "source": [
    "nr_rows = conf_matrix.shape[0]\n",
    "nr_cols = conf_matrix.shape[1]"
   ]
  },
  {
   "cell_type": "code",
   "execution_count": 88,
   "id": "3e37708e",
   "metadata": {},
   "outputs": [
    {
     "data": {
      "text/plain": [
       "622"
      ]
     },
     "execution_count": 88,
     "metadata": {},
     "output_type": "execute_result"
    }
   ],
   "source": [
    "conf_matrix.max()"
   ]
  },
  {
   "cell_type": "code",
   "execution_count": 89,
   "id": "eb36b149",
   "metadata": {},
   "outputs": [
    {
     "data": {
      "text/plain": [
       "5"
      ]
     },
     "execution_count": 89,
     "metadata": {},
     "output_type": "execute_result"
    }
   ],
   "source": [
    "conf_matrix.min()"
   ]
  },
  {
   "cell_type": "code",
   "execution_count": 150,
   "id": "1d7c4816",
   "metadata": {},
   "outputs": [
    {
     "data": {
      "text/plain": [
       "array([622,  26,  68,  20,  38,  19,  31,  33, 131,  12], dtype=int64)"
      ]
     },
     "execution_count": 150,
     "metadata": {},
     "output_type": "execute_result"
    }
   ],
   "source": [
    "conf_matrix[0]"
   ]
  },
  {
   "cell_type": "code",
   "execution_count": 162,
   "id": "b1f66647",
   "metadata": {
    "scrolled": false
   },
   "outputs": [
    {
     "data": {
      "image/png": "[encoded data removed]",
      "text/plain": [
       "<Figure size 800x800 with 2 Axes>"
      ]
     },
     "metadata": {
      "needs_background": "light"
     },
     "output_type": "display_data"
    }
   ],
   "source": [
    "plt.figure(figsize=[8, 8], dpi=100)\n",
    "plt.imshow(conf_matrix, cmap=plt.cm.Blues)\n",
    "\n",
    "plt.title('CONFSION MATRIX', fontsize=17, color='darkblue')\n",
    "plt.xlabel('Predicted Labels', fontsize=16, color='blue')\n",
    "plt.ylabel('Actual labels', fontsize=16, color='blue')\n",
    "\n",
    "tick_marks = np.arange(NR_CLASSES)\n",
    "plt.yticks(tick_marks, color='darkred', fontsize=12, labels=LABEL_NAMES)\n",
    "plt.xticks(tick_marks, color='darkred', fontsize=12, labels=LABEL_NAMES)\n",
    "\n",
    "plt.colorbar()\n",
    "\n",
    "for i, j in itertools.product(range(nr_rows), range(nr_cols)):\n",
    "    plt.text(j, i, conf_matrix[i, j], horizontalalignment='center', \n",
    "             color=('white' if conf_matrix[i, j] > 300 else 'black'))\n",
    "\n",
    "plt.show()"
   ]
  },
  {
   "cell_type": "code",
   "execution_count": 163,
   "id": "57720cfc",
   "metadata": {},
   "outputs": [
    {
     "data": {
      "text/plain": [
       "array([622, 618, 352, 247, 439, 414, 615, 534, 597, 368], dtype=int64)"
      ]
     },
     "execution_count": 163,
     "metadata": {},
     "output_type": "execute_result"
    }
   ],
   "source": [
    "# TRUE POSITIVES\n",
    "np.diag(conf_matrix)"
   ]
  },
  {
   "cell_type": "code",
   "execution_count": 165,
   "id": "7513c7bd",
   "metadata": {},
   "outputs": [
    {
     "data": {
      "text/plain": [
       "array([0.622, 0.618, 0.352, 0.247, 0.439, 0.414, 0.615, 0.534, 0.597,\n",
       "       0.368])"
      ]
     },
     "execution_count": 165,
     "metadata": {},
     "output_type": "execute_result"
    }
   ],
   "source": [
    "recall = np.diag(conf_matrix) / np.sum(conf_matrix, axis=1)\n",
    "recall"
   ]
  },
  {
   "cell_type": "code",
   "execution_count": 167,
   "id": "d012da52",
   "metadata": {},
   "outputs": [
    {
     "data": {
      "text/plain": [
       "array([0.486, 0.597, 0.369, 0.344, 0.397, 0.387, 0.474, 0.553, 0.58 ,\n",
       "       0.676])"
      ]
     },
     "execution_count": 167,
     "metadata": {},
     "output_type": "execute_result"
    }
   ],
   "source": [
    "precision = np.diag(conf_matrix) / np.sum(conf_matrix, axis=0)\n",
    "precision"
   ]
  },
  {
   "cell_type": "code",
   "execution_count": 173,
   "id": "aa672e19",
   "metadata": {},
   "outputs": [
    {
     "name": "stdout",
     "output_type": "stream",
     "text": [
      "Model 2 Recall score is: 48.06%\n"
     ]
    }
   ],
   "source": [
    "avg_recall = np.mean(recall)\n",
    "print(f'Model 2 Recall score is:{avg_recall: .2%}')"
   ]
  },
  {
   "cell_type": "code",
   "execution_count": 174,
   "id": "4bc46fa3",
   "metadata": {},
   "outputs": [
    {
     "name": "stdout",
     "output_type": "stream",
     "text": [
      "Model 2 Precision score is: 48.63%\n"
     ]
    }
   ],
   "source": [
    "avg_precision = np.mean(precision)\n",
    "print(f'Model 2 Precision score is:{avg_precision: .2%}')"
   ]
  },
  {
   "cell_type": "code",
   "execution_count": 181,
   "id": "38fbb914",
   "metadata": {},
   "outputs": [
    {
     "name": "stdout",
     "output_type": "stream",
     "text": [
      "F-Score of the Model 2 is: 48.34%\n"
     ]
    }
   ],
   "source": [
    "f_score = (2 * avg_precision * avg_recall) / (avg_precision + avg_recall)\n",
    "print(f'F-Score of the Model 2 is:{f_score: .2%}')"
   ]
  },
  {
   "cell_type": "code",
   "execution_count": null,
   "id": "530e5ecf",
   "metadata": {},
   "outputs": [],
   "source": []
  },
  {
   "cell_type": "code",
   "execution_count": null,
   "id": "6aa5d93f",
   "metadata": {},
   "outputs": [],
   "source": []
  },
  {
   "cell_type": "code",
   "execution_count": null,
   "id": "a0d615f1",
   "metadata": {},
   "outputs": [],
   "source": []
  }
 ],
 "metadata": {
  "kernelspec": {
   "display_name": "Python 3",
   "language": "python",
   "name": "python3"
  },
  "language_info": {
   "codemirror_mode": {
    "name": "ipython",
    "version": 3
   },
   "file_extension": ".py",
   "mimetype": "text/x-python",
   "name": "python",
   "nbconvert_exporter": "python",
   "pygments_lexer": "ipython3",
   "version": "3.8.8"
  }
 },
 "nbformat": 4,
 "nbformat_minor": 5
}
